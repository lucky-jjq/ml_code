{
 "cells": [
  {
   "cell_type": "markdown",
   "metadata": {},
   "source": [
    "# Fraudulent Credit Card Spending Project:\n"
   ]
  },
  {
   "cell_type": "markdown",
   "metadata": {},
   "source": [
    "### Objectives\n",
    "\n",
    "This project is intended to analyze a number of consumer spending behavior to detect possible fraudulent actions in credit card spending. The project uses machine learning model (i.e. random forest model) to analyze a number of consumer spending behavior such as purhashing time, purchasing amount, consumer age, sex, IP address, etc. The model is able to predict fraudulent credit transaction with a prediction accuracy of 95% and with a AUC of 83% in the tested scenerios"
   ]
  },
  {
   "cell_type": "code",
   "execution_count": 3,
   "metadata": {},
   "outputs": [],
   "source": [
    "# import and set environment\n",
    "import numpy as np\n",
    "import pandas as pd\n",
    "import seaborn as sns\n",
    "import matplotlib.pyplot as plt\n",
    "from sklearn.metrics import auc, roc_curve, classification_report,roc_auc_score"
   ]
  },
  {
   "cell_type": "markdown",
   "metadata": {},
   "source": [
    "### Step1: Load data and add country to the data"
   ]
  },
  {
   "cell_type": "code",
   "execution_count": 1,
   "metadata": {},
   "outputs": [
    {
     "ename": "NameError",
     "evalue": "name 'pd' is not defined",
     "output_type": "error",
     "traceback": [
      "\u001b[1;31m---------------------------------------------------------------------------\u001b[0m",
      "\u001b[1;31mNameError\u001b[0m                                 Traceback (most recent call last)",
      "\u001b[1;32m<ipython-input-1-2444da6ba192>\u001b[0m in \u001b[0;36m<module>\u001b[1;34m\u001b[0m\n\u001b[1;32m----> 1\u001b[1;33m \u001b[0mdata\u001b[0m \u001b[1;33m=\u001b[0m \u001b[0mpd\u001b[0m\u001b[1;33m.\u001b[0m\u001b[0mread_csv\u001b[0m\u001b[1;33m(\u001b[0m\u001b[1;34mr'Fraud_Data.csv'\u001b[0m\u001b[1;33m,\u001b[0m \u001b[0mparse_dates\u001b[0m\u001b[1;33m=\u001b[0m\u001b[1;33m[\u001b[0m\u001b[1;34m'signup_time'\u001b[0m\u001b[1;33m,\u001b[0m \u001b[1;34m'purchase_time'\u001b[0m\u001b[1;33m]\u001b[0m\u001b[1;33m)\u001b[0m\u001b[1;33m\u001b[0m\u001b[1;33m\u001b[0m\u001b[0m\n\u001b[0m\u001b[0;32m      2\u001b[0m \u001b[0maddress2country\u001b[0m \u001b[1;33m=\u001b[0m \u001b[0mpd\u001b[0m\u001b[1;33m.\u001b[0m\u001b[0mread_csv\u001b[0m\u001b[1;33m(\u001b[0m\u001b[1;34mr'C:\\Users\\junjq\\Box Sync\\Data Sci\\IpAddress_to_Country.csv'\u001b[0m\u001b[1;33m)\u001b[0m\u001b[1;33m\u001b[0m\u001b[1;33m\u001b[0m\u001b[0m\n",
      "\u001b[1;31mNameError\u001b[0m: name 'pd' is not defined"
     ]
    }
   ],
   "source": [
    "data = pd.read_csv(r'Fraud_Data.csv', parse_dates=['signup_time', 'purchase_time'])\n",
    "address2country = pd.read_csv(r'IpAddress_to_Country.csv')"
   ]
  },
  {
   "cell_type": "markdown",
   "metadata": {},
   "source": [
    "We want to merge the two data source together; therefore, we define new check_country function as below:"
   ]
  },
  {
   "cell_type": "code",
   "execution_count": 33,
   "metadata": {},
   "outputs": [],
   "source": [
    "def check_country(ip):\n",
    "    try:\n",
    "        return address2country[(ip>address2country['lower_bound_ip_address'])&\n",
    "                               (ip<address2country['upper_bound_ip_address'])]['country'].values[0]\n",
    "    except:\n",
    "        return None\n",
    "\n",
    "\n",
    "data['country'] = data['ip_address'].apply(lambda x: check_country(x))"
   ]
  },
  {
   "cell_type": "code",
   "execution_count": 34,
   "metadata": {
    "scrolled": true
   },
   "outputs": [
    {
     "data": {
      "text/plain": [
       "United States        58049\n",
       "China                12038\n",
       "Japan                 7306\n",
       "United Kingdom        4490\n",
       "Korea Republic of     4162\n",
       "Germany               3646\n",
       "France                3161\n",
       "Canada                2975\n",
       "Brazil                2961\n",
       "Italy                 1944\n",
       "Name: country, dtype: int64"
      ]
     },
     "execution_count": 34,
     "metadata": {},
     "output_type": "execute_result"
    }
   ],
   "source": [
    "data['country'].value_counts().head(10)"
   ]
  },
  {
   "cell_type": "markdown",
   "metadata": {},
   "source": [
    "### Comment\n",
    "The data is showing that the top 3 country that has credit card transaction is: US, China and Japan. They all seem to be reasonable."
   ]
  },
  {
   "cell_type": "markdown",
   "metadata": {},
   "source": [
    "### Step2: Feature Engineering"
   ]
  },
  {
   "cell_type": "markdown",
   "metadata": {},
   "source": [
    "There are a number of features we could use to help pattern recognition and identify potential abuse in credit card purchasing behavior:\n",
    "1. It is very suspicious for a user signup and then immediately purchase; thus, we could use the time interval after signup\n",
    "2. Also, we could study how many devices that are using the same credit card; thus, because we are studying user's first transaction, the higher the device num, the higher the possibility of fraud\n",
    "3. In addition, we could use ip address to study the fraud behaviour; thus, because we are studying user's first transaction, the higher the ip address being used, the higher the possibility of fraud\n",
    "4. I would also use the users from a particular country. For example, if we find a purchase from some very undeveloped country where credit card is not popular transaction at all, it is very suspicious."
   ]
  },
  {
   "cell_type": "code",
   "execution_count": 20,
   "metadata": {},
   "outputs": [],
   "source": [
    "# it is very suspicious for a user signup and then immediately purchase\n",
    "data['interval_after_signup'] = (data.purchase_time - data.signup_time).dt.total_seconds()"
   ]
  },
  {
   "cell_type": "code",
   "execution_count": 21,
   "metadata": {},
   "outputs": [],
   "source": [
    "# how many times a device is shared\n",
    "n_dev_shared = data.device_id.value_counts()\n",
    "data['n_dev_shared'] = data.device_id.map(n_dev_shared)"
   ]
  },
  {
   "cell_type": "code",
   "execution_count": 22,
   "metadata": {},
   "outputs": [],
   "source": [
    "# the num of ip address being used\n",
    "n_ip_shared = data.ip_address.value_counts()\n",
    "# the more a ip is shared, the more suspicous\n",
    "data['n_ip_shared'] = data.ip_address.map(n_ip_shared)"
   ]
  },
  {
   "cell_type": "code",
   "execution_count": 23,
   "metadata": {},
   "outputs": [],
   "source": [
    "# how many users are from the same country\n",
    "n_country_shared = data.country.value_counts()\n",
    "\n",
    "# the less visit from a country, the more suspicious\n",
    "data['n_country_shared'] = data.country.map(n_country_shared)"
   ]
  },
  {
   "cell_type": "code",
   "execution_count": 24,
   "metadata": {},
   "outputs": [],
   "source": [
    "data['is_male'] = (data.sex == 'M').astype(int)"
   ]
  },
  {
   "cell_type": "code",
   "execution_count": 25,
   "metadata": {},
   "outputs": [
    {
     "data": {
      "text/html": [
       "<div>\n",
       "<style scoped>\n",
       "    .dataframe tbody tr th:only-of-type {\n",
       "        vertical-align: middle;\n",
       "    }\n",
       "\n",
       "    .dataframe tbody tr th {\n",
       "        vertical-align: top;\n",
       "    }\n",
       "\n",
       "    .dataframe thead th {\n",
       "        text-align: right;\n",
       "    }\n",
       "</style>\n",
       "<table border=\"1\" class=\"dataframe\">\n",
       "  <thead>\n",
       "    <tr style=\"text-align: right;\">\n",
       "      <th></th>\n",
       "      <th>purchase_value</th>\n",
       "      <th>age</th>\n",
       "      <th>interval_after_signup</th>\n",
       "      <th>n_dev_shared</th>\n",
       "      <th>n_ip_shared</th>\n",
       "      <th>n_country_shared</th>\n",
       "      <th>is_male</th>\n",
       "      <th>source_Ads</th>\n",
       "      <th>source_Direct</th>\n",
       "      <th>source_SEO</th>\n",
       "      <th>browser_Chrome</th>\n",
       "      <th>browser_FireFox</th>\n",
       "      <th>browser_IE</th>\n",
       "      <th>browser_Opera</th>\n",
       "      <th>browser_Safari</th>\n",
       "    </tr>\n",
       "  </thead>\n",
       "  <tbody>\n",
       "    <tr>\n",
       "      <th>0</th>\n",
       "      <td>34</td>\n",
       "      <td>39</td>\n",
       "      <td>4506682.0</td>\n",
       "      <td>1</td>\n",
       "      <td>1</td>\n",
       "      <td>7306.0</td>\n",
       "      <td>1</td>\n",
       "      <td>0</td>\n",
       "      <td>0</td>\n",
       "      <td>1</td>\n",
       "      <td>1</td>\n",
       "      <td>0</td>\n",
       "      <td>0</td>\n",
       "      <td>0</td>\n",
       "      <td>0</td>\n",
       "    </tr>\n",
       "    <tr>\n",
       "      <th>1</th>\n",
       "      <td>16</td>\n",
       "      <td>53</td>\n",
       "      <td>17944.0</td>\n",
       "      <td>1</td>\n",
       "      <td>1</td>\n",
       "      <td>58049.0</td>\n",
       "      <td>0</td>\n",
       "      <td>1</td>\n",
       "      <td>0</td>\n",
       "      <td>0</td>\n",
       "      <td>1</td>\n",
       "      <td>0</td>\n",
       "      <td>0</td>\n",
       "      <td>0</td>\n",
       "      <td>0</td>\n",
       "    </tr>\n",
       "    <tr>\n",
       "      <th>2</th>\n",
       "      <td>15</td>\n",
       "      <td>53</td>\n",
       "      <td>1.0</td>\n",
       "      <td>12</td>\n",
       "      <td>12</td>\n",
       "      <td>58049.0</td>\n",
       "      <td>1</td>\n",
       "      <td>0</td>\n",
       "      <td>0</td>\n",
       "      <td>1</td>\n",
       "      <td>0</td>\n",
       "      <td>0</td>\n",
       "      <td>0</td>\n",
       "      <td>1</td>\n",
       "      <td>0</td>\n",
       "    </tr>\n",
       "    <tr>\n",
       "      <th>4</th>\n",
       "      <td>39</td>\n",
       "      <td>45</td>\n",
       "      <td>4361461.0</td>\n",
       "      <td>1</td>\n",
       "      <td>1</td>\n",
       "      <td>58049.0</td>\n",
       "      <td>1</td>\n",
       "      <td>1</td>\n",
       "      <td>0</td>\n",
       "      <td>0</td>\n",
       "      <td>0</td>\n",
       "      <td>0</td>\n",
       "      <td>0</td>\n",
       "      <td>0</td>\n",
       "      <td>1</td>\n",
       "    </tr>\n",
       "    <tr>\n",
       "      <th>5</th>\n",
       "      <td>42</td>\n",
       "      <td>18</td>\n",
       "      <td>4240931.0</td>\n",
       "      <td>1</td>\n",
       "      <td>1</td>\n",
       "      <td>2975.0</td>\n",
       "      <td>1</td>\n",
       "      <td>1</td>\n",
       "      <td>0</td>\n",
       "      <td>0</td>\n",
       "      <td>1</td>\n",
       "      <td>0</td>\n",
       "      <td>0</td>\n",
       "      <td>0</td>\n",
       "      <td>0</td>\n",
       "    </tr>\n",
       "  </tbody>\n",
       "</table>\n",
       "</div>"
      ],
      "text/plain": [
       "   purchase_value  age  interval_after_signup  n_dev_shared  n_ip_shared  \\\n",
       "0              34   39              4506682.0             1            1   \n",
       "1              16   53                17944.0             1            1   \n",
       "2              15   53                    1.0            12           12   \n",
       "4              39   45              4361461.0             1            1   \n",
       "5              42   18              4240931.0             1            1   \n",
       "\n",
       "   n_country_shared  is_male  source_Ads  source_Direct  source_SEO  \\\n",
       "0            7306.0        1           0              0           1   \n",
       "1           58049.0        0           1              0           0   \n",
       "2           58049.0        1           0              0           1   \n",
       "4           58049.0        1           1              0           0   \n",
       "5            2975.0        1           1              0           0   \n",
       "\n",
       "   browser_Chrome  browser_FireFox  browser_IE  browser_Opera  browser_Safari  \n",
       "0               1                0           0              0               0  \n",
       "1               1                0           0              0               0  \n",
       "2               0                0           0              1               0  \n",
       "4               0                0           0              0               1  \n",
       "5               1                0           0              0               0  "
      ]
     },
     "execution_count": 25,
     "metadata": {},
     "output_type": "execute_result"
    }
   ],
   "source": [
    "data_use=data.dropna()[[ u'purchase_value', u'source', u'browser', u'age', u'interval_after_signup', u'n_dev_shared',\n",
    "       u'n_ip_shared', u'n_country_shared', u'is_male']]\n",
    "\n",
    "data_use = pd.get_dummies(data_use,columns=['source','browser'])\n",
    "fraud = data.dropna()['class']\n",
    "data_use.head()\n"
   ]
  },
  {
   "cell_type": "markdown",
   "metadata": {},
   "source": [
    "### Step3: Data Visualization"
   ]
  },
  {
   "cell_type": "code",
   "execution_count": 26,
   "metadata": {
    "scrolled": true
   },
   "outputs": [
    {
     "data": {
      "text/plain": [
       "<matplotlib.axes._subplots.AxesSubplot at 0x13fa8978>"
      ]
     },
     "execution_count": 26,
     "metadata": {},
     "output_type": "execute_result"
    },
    {
     "data": {
      "image/png": "[encoded data removed]",
      "text/plain": [
       "<Figure size 468x468 with 1 Axes>"
      ]
     },
     "metadata": {},
     "output_type": "display_data"
    }
   ],
   "source": [
    "import seaborn as sns\n",
    "import matplotlib.pyplot as plt\n",
    "sns.set(style=\"whitegrid\")\n",
    "f, ax = plt.subplots(figsize=(6.5, 6.5))\n",
    "sns.despine(f, left=True, bottom=True)\n",
    "sns.scatterplot(x=\"interval_after_signup\", y=\"n_ip_shared\",\n",
    "                hue=\"class\",\n",
    "                sizes=(1, 8), linewidth=0,\n",
    "                data=data.iloc[:10000], ax=ax)"
   ]
  },
  {
   "cell_type": "markdown",
   "metadata": {},
   "source": [
    "### comments\n",
    "\n",
    "It shows that the lower the interval after signup, the more likely for fraud. It also shows that the higher the n_ip_shared, it is possible for higher fraud rate as well.\n"
   ]
  },
  {
   "cell_type": "markdown",
   "metadata": {},
   "source": [
    "### Step4:train models"
   ]
  },
  {
   "cell_type": "markdown",
   "metadata": {},
   "source": [
    "I am using random forest model to model this problem because it is a classical classification problem"
   ]
  },
  {
   "cell_type": "code",
   "execution_count": 27,
   "metadata": {
    "scrolled": true
   },
   "outputs": [
    {
     "name": "stderr",
     "output_type": "stream",
     "text": [
      "C:\\Users\\junjq\\Anaconda2\\lib\\site-packages\\sklearn\\ensemble\\weight_boosting.py:29: DeprecationWarning: numpy.core.umath_tests is an internal NumPy module and should not be imported. It will be removed in a future NumPy release.\n",
      "  from numpy.core.umath_tests import inner1d\n"
     ]
    },
    {
     "name": "stdout",
     "output_type": "stream",
     "text": [
      "Training Random Forest...\n",
      "The classifier accuracy score is 0.95\n",
      "The 3-fold cross-validation accuracy score for this classifier is 0.95\n"
     ]
    },
    {
     "data": {
      "text/plain": [
       "([<matplotlib.axis.YTick at 0x10c01ac8>,\n",
       "  <matplotlib.axis.YTick at 0x10c01630>,\n",
       "  <matplotlib.axis.YTick at 0x10c06320>,\n",
       "  <matplotlib.axis.YTick at 0x1220d5f8>,\n",
       "  <matplotlib.axis.YTick at 0x1220da90>,\n",
       "  <matplotlib.axis.YTick at 0x1220df28>,\n",
       "  <matplotlib.axis.YTick at 0x121e9438>,\n",
       "  <matplotlib.axis.YTick at 0x121e9908>,\n",
       "  <matplotlib.axis.YTick at 0x121e9dd8>,\n",
       "  <matplotlib.axis.YTick at 0x121f12e8>,\n",
       "  <matplotlib.axis.YTick at 0x121f17b8>,\n",
       "  <matplotlib.axis.YTick at 0x121e9978>,\n",
       "  <matplotlib.axis.YTick at 0x1220d710>,\n",
       "  <matplotlib.axis.YTick at 0x121f1ba8>,\n",
       "  <matplotlib.axis.YTick at 0x11bab0b8>],\n",
       " <a list of 15 Text yticklabel objects>)"
      ]
     },
     "execution_count": 27,
     "metadata": {},
     "output_type": "execute_result"
    },
    {
     "data": {
      "image/png": "[encoded data removed]",
      "text/plain": [
       "<Figure size 432x288 with 1 Axes>"
      ]
     },
     "metadata": {},
     "output_type": "display_data"
    }
   ],
   "source": [
    "from sklearn.model_selection import train_test_split\n",
    "from sklearn.tree import DecisionTreeClassifier,export_graphviz\n",
    "from sklearn.ensemble import RandomForestClassifier\n",
    "from sklearn.model_selection import cross_val_score\n",
    "from sklearn.model_selection import KFold\n",
    "\n",
    "x_train, x_test, y_train, y_test = train_test_split(data_use, fraud, \n",
    "                                                    test_size=0.20, random_state=0)\n",
    "\n",
    "n_folds = 3\n",
    "\n",
    "kf = KFold(n_splits=n_folds)\n",
    "kf = kf.get_n_splits(x_train)\n",
    "\n",
    "print ('Training Random Forest...')\n",
    "\n",
    "clf_rf = RandomForestClassifier(n_estimators=100,max_depth=5) \n",
    "clf_rf = clf_rf.fit( x_train, y_train )\n",
    "classifier_score = clf_rf.score(x_test, y_test)\n",
    "print ('The classifier accuracy score is {:.2f}'.format(classifier_score))\n",
    "# Get average of 3-fold cross-validation score \n",
    "score = cross_val_score(clf_rf, x_test, y_test, cv=kf)\n",
    "print ('The {}-fold cross-validation accuracy score for this classifier is {:.2f}'.format(n_folds, score.mean()))\n",
    "\n",
    "feature_imp = clf_rf.feature_importances_\n",
    "feature_imp = pd.Series(feature_imp,\n",
    "                       index = data_use.columns).sort_values()\n",
    "plt.barh(range(len(feature_imp)), feature_imp.values, align='center')\n",
    "plt.yticks(range(len(feature_imp)), feature_imp.index)"
   ]
  },
  {
   "cell_type": "code",
   "execution_count": 29,
   "metadata": {},
   "outputs": [
    {
     "name": "stdout",
     "output_type": "stream",
     "text": [
      "The classifier accuracy score is 0.95\n",
      "The 3-fold cross-validation accuracy score for this classifier is 0.95\n"
     ]
    },
    {
     "data": {
      "image/png": "[encoded data removed]",
      "text/plain": [
       "<Figure size 432x288 with 1 Axes>"
      ]
     },
     "metadata": {},
     "output_type": "display_data"
    }
   ],
   "source": [
    "y_test_predicted = clf_rf.predict_proba(x_test)[:, 1]\n",
    "false_positive, true_positive, _ = roc_curve(y_test, y_test_predicted)\n",
    "auc = roc_auc_score(y_test, y_test_predicted)\n",
    "\n",
    "y_train_predicted = clf_rf.predict_proba(x_train)[:, 1]\n",
    "false_positive2, true_positive2, _ = roc_curve(y_train, y_train_predicted)\n",
    "auc2 = roc_auc_score(y_train, y_train_predicted)\n",
    "\n",
    "print ('The classifier accuracy score is {:.2f}'.format(classifier_score))\n",
    "print ('The {}-fold cross-validation accuracy score for this classifier is {:.2f}'.format(n_folds, score.mean()))\n",
    "plt.figure()\n",
    "plt.plot([0, 1], [0, 1], 'k--')\n",
    "plt.plot(false_positive, true_positive, color='darkorange', label='Random Forest test set (area = %0.2f)' % auc)\n",
    "plt.plot(false_positive2, true_positive2, color='blue', label='Random Forest training set(area = %0.2f)' % auc2)\n",
    "\n",
    "plt.xlabel('False positive rate')\n",
    "plt.ylabel('True positive rate')\n",
    "plt.title('ROC curve' )\n",
    "plt.legend(loc='best')\n",
    "plt.show()"
   ]
  },
  {
   "cell_type": "markdown",
   "metadata": {},
   "source": [
    "I am able to yield a 95% accuracy in predicting the fraudulent credit card behaviour. The most relevant predicting features are: interval after sign up, num of ip address shared and num of device shared"
   ]
  },
  {
   "cell_type": "markdown",
   "metadata": {},
   "source": [
    "### Conclusion\n",
    "In conclusion, the above model uses machine learning model (i.e. random forest model) to analyze consumer spending behavior. The model is able to predict fraudulent credit transaction with a prediction accuracy of 95% and with a AUC of 83% in the tested scenerios"
   ]
  },
  {
   "cell_type": "code",
   "execution_count": null,
   "metadata": {},
   "outputs": [],
   "source": []
  }
 ],
 "metadata": {
  "kernelspec": {
   "display_name": "Python 3",
   "language": "python",
   "name": "python3"
  },
  "language_info": {
   "codemirror_mode": {
    "name": "ipython",
    "version": 3
   },
   "file_extension": ".py",
   "mimetype": "text/x-python",
   "name": "python",
   "nbconvert_exporter": "python",
   "pygments_lexer": "ipython3",
   "version": "3.7.3"
  }
 },
 "nbformat": 4,
 "nbformat_minor": 2
}
